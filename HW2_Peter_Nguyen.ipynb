{
 "cells": [
  {
   "cell_type": "markdown",
   "metadata": {},
   "source": [
    "#Task 1"
   ]
  },
  {
   "cell_type": "code",
   "execution_count": 5,
   "metadata": {},
   "outputs": [
    {
     "name": "stdout",
     "output_type": "stream",
     "text": [
      "Writing cs4650hw2_part1.py\n"
     ]
    }
   ],
   "source": [
    "%%file cs4650hw2_part1.py\n",
    "from mrjob.job import MRJob\n",
    "\n",
    "class MaxMinValue(MRJob):\n",
    "\n",
    "    def mapper(self, _, line):\n",
    "        col, row, value = line.split(\",\")\n",
    "        value = int(value)\n",
    "\n",
    "        # Yield column, value for max calculation in reducer\n",
    "        yield (\"COLUMN\", col), value\n",
    "\n",
    "        # Yield row, value for min calculation in reducer\n",
    "        yield (\"ROW\", row), value\n",
    "\n",
    "    def reducer(self, key, values):\n",
    "        key_type, col_or_row = key\n",
    "\n",
    "        # For columns, we want max value\n",
    "        if key_type == \"COLUMN\":\n",
    "            yield col_or_row, max(values)\n",
    "        else:  # For rows, we want min value\n",
    "            yield col_or_row, min(values)\n",
    "\n",
    "\n",
    "if __name__ == '__main__':\n",
    "    MaxMinValue.run()\n"
   ]
  },
  {
   "cell_type": "code",
   "execution_count": 6,
   "metadata": {},
   "outputs": [
    {
     "name": "stdout",
     "output_type": "stream",
     "text": [
      "\"A\"\t994\n",
      "\"B\"\t999\n",
      "\"C\"\t987\n",
      "\"D\"\t995\n",
      "\"E\"\t998\n",
      "\"F\"\t997\n",
      "\"G\"\t997\n",
      "\"H\"\t997\n",
      "\"I\"\t995\n",
      "\"J\"\t992\n",
      "\"K\"\t0\n",
      "\"L\"\t3\n",
      "\"M\"\t0\n",
      "\"N\"\t13\n",
      "\"O\"\t1\n",
      "\"P\"\t12\n",
      "\"Q\"\t0\n",
      "\"R\"\t2\n",
      "\"S\"\t5\n",
      "\"T\"\t2\n"
     ]
    },
    {
     "name": "stderr",
     "output_type": "stream",
     "text": [
      "No configs found; falling back on auto-configuration\n",
      "No configs specified for inline runner\n",
      "Creating temp directory C:\\Users\\peter\\AppData\\Local\\Temp\\cs4650hw2_part1.peter.20231004.020617.056061\n",
      "Running step 1 of 1...\n",
      "job output is in C:\\Users\\peter\\AppData\\Local\\Temp\\cs4650hw2_part1.peter.20231004.020617.056061\\output\n",
      "Streaming final output from C:\\Users\\peter\\AppData\\Local\\Temp\\cs4650hw2_part1.peter.20231004.020617.056061\\output...\n",
      "Removing temp directory C:\\Users\\peter\\AppData\\Local\\Temp\\cs4650hw2_part1.peter.20231004.020617.056061...\n"
     ]
    }
   ],
   "source": [
    "!python cs4650hw2_part1.py cs4650hw2.dat"
   ]
  },
  {
   "cell_type": "markdown",
   "metadata": {},
   "source": [
    "#Task 2"
   ]
  },
  {
   "cell_type": "code",
   "execution_count": null,
   "metadata": {},
   "outputs": [],
   "source": []
  }
 ],
 "metadata": {
  "kernelspec": {
   "display_name": "base",
   "language": "python",
   "name": "python3"
  },
  "language_info": {
   "codemirror_mode": {
    "name": "ipython",
    "version": 3
   },
   "file_extension": ".py",
   "mimetype": "text/x-python",
   "name": "python",
   "nbconvert_exporter": "python",
   "pygments_lexer": "ipython3",
   "version": "3.11.4"
  },
  "orig_nbformat": 4
 },
 "nbformat": 4,
 "nbformat_minor": 2
}
