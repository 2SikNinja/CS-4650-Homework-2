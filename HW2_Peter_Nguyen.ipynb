{
 "cells": [
  {
   "cell_type": "markdown",
   "metadata": {},
   "source": [
    "# Task 1"
   ]
  },
  {
   "cell_type": "code",
   "execution_count": 15,
   "metadata": {},
   "outputs": [
    {
     "name": "stdout",
     "output_type": "stream",
     "text": [
      "Overwriting cs4650hw2_part1.py\n"
     ]
    }
   ],
   "source": [
    "%%file cs4650hw2_part1.py\n",
    "from mrjob.job import MRJob\n",
    "\n",
    "class MaxMinValue(MRJob):\n",
    "\n",
    "    def mapper(self, _, line):\n",
    "        col, row, value = line.split(\",\")\n",
    "        value = int(value)\n",
    "\n",
    "        # Yield column, value for max calculation in reducer\n",
    "        yield (\"COLUMN\", col), value\n",
    "\n",
    "        # Yield row, value for min calculation in reducer\n",
    "        yield (\"ROW\", row), value\n",
    "\n",
    "    def reducer(self, key, values):\n",
    "        key_type, col_or_row = key\n",
    "\n",
    "        # For columns, we want max value\n",
    "        if key_type == \"COLUMN\":\n",
    "            yield col_or_row, max(values)\n",
    "        else:  # For rows, we want min value\n",
    "            yield col_or_row, min(values)\n",
    "\n",
    "\n",
    "if __name__ == '__main__':\n",
    "    MaxMinValue.run()\n"
   ]
  },
  {
   "cell_type": "code",
   "execution_count": 16,
   "metadata": {},
   "outputs": [
    {
     "name": "stdout",
     "output_type": "stream",
     "text": [
      "\"A\"\t994\n",
      "\"B\"\t999\n",
      "\"C\"\t987\n",
      "\"D\"\t995\n",
      "\"E\"\t998\n",
      "\"F\"\t997\n",
      "\"G\"\t997\n",
      "\"H\"\t997\n",
      "\"I\"\t995\n",
      "\"J\"\t992\n",
      "\"K\"\t0\n",
      "\"L\"\t3\n",
      "\"M\"\t0\n",
      "\"N\"\t13\n",
      "\"O\"\t1\n",
      "\"P\"\t12\n",
      "\"Q\"\t0\n",
      "\"R\"\t2\n",
      "\"S\"\t5\n",
      "\"T\"\t2\n"
     ]
    },
    {
     "name": "stderr",
     "output_type": "stream",
     "text": [
      "No configs found; falling back on auto-configuration\n",
      "No configs specified for inline runner\n",
      "Creating temp directory C:\\Users\\peter\\AppData\\Local\\Temp\\cs4650hw2_part1.peter.20231004.092917.512937\n",
      "Running step 1 of 1...\n",
      "job output is in C:\\Users\\peter\\AppData\\Local\\Temp\\cs4650hw2_part1.peter.20231004.092917.512937\\output\n",
      "Streaming final output from C:\\Users\\peter\\AppData\\Local\\Temp\\cs4650hw2_part1.peter.20231004.092917.512937\\output...\n",
      "Removing temp directory C:\\Users\\peter\\AppData\\Local\\Temp\\cs4650hw2_part1.peter.20231004.092917.512937...\n"
     ]
    }
   ],
   "source": [
    "!python cs4650hw2_part1.py cs4650hw2.dat"
   ]
  },
  {
   "cell_type": "markdown",
   "metadata": {},
   "source": [
    "# Task 2"
   ]
  },
  {
   "cell_type": "code",
   "execution_count": 17,
   "metadata": {},
   "outputs": [
    {
     "name": "stdout",
     "output_type": "stream",
     "text": [
      "Overwriting cs4650hw2_part2.py\n"
     ]
    }
   ],
   "source": [
    "%%file cs4650hw2_part2.py\n",
    "from mrjob.job import MRJob\n",
    "\n",
    "\n",
    "class MaxMinValueWithExample(MRJob):\n",
    "\n",
    "    def mapper(self, _, line):\n",
    "        col, row, value = line.split(',')\n",
    "        value = int(value)\n",
    "        # Emit column key with value and row example\n",
    "        yield (\"COLUMN\", col), (value, row)\n",
    "        # Emit row key with value and column example\n",
    "        yield (\"ROW\", row), (value, col)\n",
    "\n",
    "    def reducer(self, key, values):\n",
    "        key_type, key_name = key\n",
    "        if key_type == \"COLUMN\":\n",
    "            # Find the maximum value for columns and associated row\n",
    "            max_value, example = max(values, key=lambda x: x[0])\n",
    "            yield key_name, {\"value\": max_value, \"example\": example}\n",
    "        else:\n",
    "            # Find the minimum value for rows and associated column\n",
    "            min_value, example = min(values, key=lambda x: x[0])\n",
    "            yield key_name, {\"value\": min_value, \"example\": example}\n",
    "\n",
    "\n",
    "if __name__ == '__main__':\n",
    "    MaxMinValueWithExample.run()"
   ]
  },
  {
   "cell_type": "code",
   "execution_count": 18,
   "metadata": {},
   "outputs": [
    {
     "name": "stdout",
     "output_type": "stream",
     "text": [
      "\"A\"\t{\"value\":994,\"example\":\"R\"}\n",
      "\"B\"\t{\"value\":999,\"example\":\"N\"}\n",
      "\"C\"\t{\"value\":987,\"example\":\"S\"}\n",
      "\"D\"\t{\"value\":995,\"example\":\"M\"}\n",
      "\"E\"\t{\"value\":998,\"example\":\"N\"}\n",
      "\"F\"\t{\"value\":997,\"example\":\"M\"}\n",
      "\"G\"\t{\"value\":997,\"example\":\"M\"}\n",
      "\"H\"\t{\"value\":997,\"example\":\"P\"}\n",
      "\"I\"\t{\"value\":995,\"example\":\"S\"}\n",
      "\"J\"\t{\"value\":992,\"example\":\"K\"}\n",
      "\"K\"\t{\"value\":0,\"example\":\"H\"}\n",
      "\"L\"\t{\"value\":3,\"example\":\"H\"}\n",
      "\"M\"\t{\"value\":0,\"example\":\"E\"}\n",
      "\"N\"\t{\"value\":13,\"example\":\"B\"}\n",
      "\"O\"\t{\"value\":1,\"example\":\"H\"}\n",
      "\"P\"\t{\"value\":12,\"example\":\"B\"}\n",
      "\"Q\"\t{\"value\":0,\"example\":\"C\"}\n",
      "\"R\"\t{\"value\":2,\"example\":\"F\"}\n",
      "\"S\"\t{\"value\":5,\"example\":\"I\"}\n",
      "\"T\"\t{\"value\":2,\"example\":\"G\"}\n"
     ]
    },
    {
     "name": "stderr",
     "output_type": "stream",
     "text": [
      "No configs found; falling back on auto-configuration\n",
      "No configs specified for inline runner\n",
      "Creating temp directory C:\\Users\\peter\\AppData\\Local\\Temp\\cs4650hw2_part2.peter.20231004.092918.708965\n",
      "Running step 1 of 1...\n",
      "job output is in C:\\Users\\peter\\AppData\\Local\\Temp\\cs4650hw2_part2.peter.20231004.092918.708965\\output\n",
      "Streaming final output from C:\\Users\\peter\\AppData\\Local\\Temp\\cs4650hw2_part2.peter.20231004.092918.708965\\output...\n",
      "Removing temp directory C:\\Users\\peter\\AppData\\Local\\Temp\\cs4650hw2_part2.peter.20231004.092918.708965...\n"
     ]
    }
   ],
   "source": [
    "!python cs4650hw2_part2.py cs4650hw2.dat\n"
   ]
  },
  {
   "cell_type": "markdown",
   "metadata": {},
   "source": [
    "# Task 3"
   ]
  },
  {
   "cell_type": "code",
   "execution_count": 23,
   "metadata": {},
   "outputs": [
    {
     "name": "stdout",
     "output_type": "stream",
     "text": [
      "Overwriting cs4650hw2_part3.py\n"
     ]
    }
   ],
   "source": [
    "%%file cs4650hw2_part3.py\n",
    "\n",
    "from mrjob.job import MRJob\n",
    "\n",
    "class MaxMinValueMultipleExamples(MRJob):\n",
    "\n",
    "    def mapper(self, _, line):\n",
    "        col, row, value = line.split(',')\n",
    "        value = int(value)\n",
    "        # Emit column key with value and row example\n",
    "        yield (\"COLUMN\", col), (value, row)\n",
    "        # Emit row key with value and column example\n",
    "        yield (\"ROW\", row), (value, col)\n",
    "\n",
    "    def reducer(self, key, values):\n",
    "        key_type, key_name = key\n",
    "        values_list = list(values)  # Convert values to a list for multiple iterations\n",
    "        examples = []\n",
    "\n",
    "        if key_type == \"COLUMN\":\n",
    "            # Find the maximum value for columns\n",
    "            max_value = max(val for val, _ in values_list)\n",
    "            examples = [example for val, example in values_list if val == max_value]\n",
    "            yield key_name, {\"value\": max_value, \"examples\": examples}\n",
    "        else:\n",
    "            # Find the minimum value for rows\n",
    "            min_value = min(val for val, _ in values_list)\n",
    "            examples = [example for val, example in values_list if val == min_value]\n",
    "            yield key_name, {\"value\": min_value, \"examples\": examples}\n",
    "\n",
    "if __name__ == '__main__':\n",
    "    MaxMinValueMultipleExamples.run()\n"
   ]
  },
  {
   "cell_type": "code",
   "execution_count": 24,
   "metadata": {},
   "outputs": [
    {
     "name": "stdout",
     "output_type": "stream",
     "text": [
      "\"A\"\t{\"value\":994,\"examples\":[\"R\",\"P\"]}\n",
      "\"B\"\t{\"value\":999,\"examples\":[\"N\"]}\n",
      "\"C\"\t{\"value\":987,\"examples\":[\"S\"]}\n",
      "\"D\"\t{\"value\":995,\"examples\":[\"M\"]}\n",
      "\"E\"\t{\"value\":998,\"examples\":[\"N\",\"S\"]}\n",
      "\"F\"\t{\"value\":997,\"examples\":[\"M\"]}\n",
      "\"G\"\t{\"value\":997,\"examples\":[\"M\"]}\n",
      "\"H\"\t{\"value\":997,\"examples\":[\"P\"]}\n",
      "\"I\"\t{\"value\":995,\"examples\":[\"S\"]}\n",
      "\"J\"\t{\"value\":992,\"examples\":[\"K\"]}\n",
      "\"K\"\t{\"value\":0,\"examples\":[\"H\"]}\n",
      "\"L\"\t{\"value\":3,\"examples\":[\"H\",\"B\"]}\n",
      "\"M\"\t{\"value\":0,\"examples\":[\"E\"]}\n",
      "\"N\"\t{\"value\":13,\"examples\":[\"B\"]}\n",
      "\"O\"\t{\"value\":1,\"examples\":[\"H\"]}\n",
      "\"P\"\t{\"value\":12,\"examples\":[\"B\"]}\n",
      "\"Q\"\t{\"value\":0,\"examples\":[\"C\",\"G\"]}\n",
      "\"R\"\t{\"value\":2,\"examples\":[\"F\"]}\n",
      "\"S\"\t{\"value\":5,\"examples\":[\"I\"]}\n",
      "\"T\"\t{\"value\":2,\"examples\":[\"G\"]}\n"
     ]
    },
    {
     "name": "stderr",
     "output_type": "stream",
     "text": [
      "No configs found; falling back on auto-configuration\n",
      "No configs specified for inline runner\n",
      "Creating temp directory C:\\Users\\peter\\AppData\\Local\\Temp\\cs4650hw2_part3.peter.20231004.095731.366111\n",
      "Running step 1 of 1...\n",
      "job output is in C:\\Users\\peter\\AppData\\Local\\Temp\\cs4650hw2_part3.peter.20231004.095731.366111\\output\n",
      "Streaming final output from C:\\Users\\peter\\AppData\\Local\\Temp\\cs4650hw2_part3.peter.20231004.095731.366111\\output...\n",
      "Removing temp directory C:\\Users\\peter\\AppData\\Local\\Temp\\cs4650hw2_part3.peter.20231004.095731.366111...\n"
     ]
    }
   ],
   "source": [
    "!python cs4650hw2_part3.py cs4650hw2.dat\n"
   ]
  }
 ],
 "metadata": {
  "kernelspec": {
   "display_name": "base",
   "language": "python",
   "name": "python3"
  },
  "language_info": {
   "codemirror_mode": {
    "name": "ipython",
    "version": 3
   },
   "file_extension": ".py",
   "mimetype": "text/x-python",
   "name": "python",
   "nbconvert_exporter": "python",
   "pygments_lexer": "ipython3",
   "version": "3.11.4"
  },
  "orig_nbformat": 4
 },
 "nbformat": 4,
 "nbformat_minor": 2
}
